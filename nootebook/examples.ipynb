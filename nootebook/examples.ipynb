{
 "cells": [
  {
   "cell_type": "code",
   "execution_count": 2,
   "id": "c731c612",
   "metadata": {},
   "outputs": [
    {
     "name": "stdout",
     "output_type": "stream",
     "text": [
      "[[1 2 3 4]\n",
      " [5 6 7 8]\n",
      " [9 1 5 7]]\n"
     ]
    }
   ],
   "source": [
    "import numpy as np\n",
    "m = np.matrix('1 2 3 4; 5 6 7 8; 9 1 5 7')\n",
    "print(m)"
   ]
  },
  {
   "cell_type": "code",
   "execution_count": 3,
   "id": "634eabff",
   "metadata": {},
   "outputs": [
    {
     "name": "stdout",
     "output_type": "stream",
     "text": [
      "5\n"
     ]
    }
   ],
   "source": [
    "print(m[1, 0])"
   ]
  },
  {
   "cell_type": "code",
   "execution_count": 4,
   "id": "ee9b0263",
   "metadata": {},
   "outputs": [
    {
     "name": "stdout",
     "output_type": "stream",
     "text": [
      "[[5 6 7 8]]\n"
     ]
    }
   ],
   "source": [
    "print(m[1, :])"
   ]
  },
  {
   "cell_type": "code",
   "execution_count": 5,
   "id": "e1d99090",
   "metadata": {},
   "outputs": [
    {
     "name": "stdout",
     "output_type": "stream",
     "text": [
      "[[3]\n",
      " [7]\n",
      " [5]]\n"
     ]
    }
   ],
   "source": [
    "print(m[:, 2])"
   ]
  },
  {
   "cell_type": "code",
   "execution_count": 6,
   "id": "d2c0dfbd",
   "metadata": {},
   "outputs": [
    {
     "name": "stdout",
     "output_type": "stream",
     "text": [
      "[[7 8]]\n"
     ]
    }
   ],
   "source": [
    "print(m[1, 2:])"
   ]
  },
  {
   "cell_type": "code",
   "execution_count": 7,
   "id": "4149bef4",
   "metadata": {},
   "outputs": [
    {
     "name": "stdout",
     "output_type": "stream",
     "text": [
      "[[2]\n",
      " [6]]\n"
     ]
    }
   ],
   "source": [
    "print(m[0:2, 1])"
   ]
  },
  {
   "cell_type": "code",
   "execution_count": 8,
   "id": "1920ca55",
   "metadata": {},
   "outputs": [
    {
     "name": "stdout",
     "output_type": "stream",
     "text": [
      "[[2 3]\n",
      " [6 7]]\n"
     ]
    }
   ],
   "source": [
    "print(m[0:2, 1:3])"
   ]
  },
  {
   "cell_type": "code",
   "execution_count": 9,
   "id": "2e869979",
   "metadata": {},
   "outputs": [
    {
     "name": "stdout",
     "output_type": "stream",
     "text": [
      "[[1 2 4]\n",
      " [5 6 8]\n",
      " [9 1 7]]\n"
     ]
    }
   ],
   "source": [
    "cols = [0, 1, 3]\n",
    "print(m[:, cols])"
   ]
  },
  {
   "cell_type": "markdown",
   "id": "2c5ca49a",
   "metadata": {},
   "source": [
    "Расчёт статистик по данным в массиве"
   ]
  },
  {
   "cell_type": "code",
   "execution_count": 10,
   "id": "b75ea7bb",
   "metadata": {},
   "outputs": [
    {
     "name": "stdout",
     "output_type": "stream",
     "text": [
      "[[1 2 3 4]\n",
      " [5 6 7 8]\n",
      " [9 1 5 7]]\n"
     ]
    },
    {
     "data": {
      "text/plain": [
       "(3, 4)"
      ]
     },
     "execution_count": 10,
     "metadata": {},
     "output_type": "execute_result"
    }
   ],
   "source": [
    "print(m)\n",
    "m.shape # Размерность массива"
   ]
  },
  {
   "cell_type": "code",
   "execution_count": 11,
   "id": "dfa02b36",
   "metadata": {},
   "outputs": [
    {
     "data": {
      "text/plain": [
       "9"
      ]
     },
     "execution_count": 11,
     "metadata": {},
     "output_type": "execute_result"
    }
   ],
   "source": [
    "np.max(m) # Максимальный элеемент"
   ]
  },
  {
   "cell_type": "markdown",
   "id": "44f5e757",
   "metadata": {},
   "source": [
    "Если необходимо найти максимальный элемент в каждой строке, то для этого нужно передать в качестве аргумента параметр axis=1."
   ]
  },
  {
   "cell_type": "code",
   "execution_count": 12,
   "id": "80e69cb3",
   "metadata": {},
   "outputs": [
    {
     "name": "stdout",
     "output_type": "stream",
     "text": [
      "[[4]\n",
      " [8]\n",
      " [9]]\n"
     ]
    }
   ],
   "source": [
    "print(m.max(axis=1))"
   ]
  },
  {
   "cell_type": "markdown",
   "id": "a62fd184",
   "metadata": {},
   "source": [
    "Для вычисления статистики по столбцам, передайте в качестве параметра аргумент axis=0."
   ]
  },
  {
   "cell_type": "code",
   "execution_count": 13,
   "id": "4d433b8b",
   "metadata": {},
   "outputs": [
    {
     "name": "stdout",
     "output_type": "stream",
     "text": [
      "[[9 6 7 8]]\n"
     ]
    }
   ],
   "source": [
    "print(m.max(axis=0))"
   ]
  },
  {
   "cell_type": "code",
   "execution_count": 14,
   "id": "7b869695",
   "metadata": {},
   "outputs": [
    {
     "name": "stdout",
     "output_type": "stream",
     "text": [
      "4.833333333333333\n",
      "[[2.5]\n",
      " [6.5]\n",
      " [5.5]]\n",
      "58\n",
      "[[15  9 15 19]]\n"
     ]
    }
   ],
   "source": [
    "print(m.mean())\n",
    "print(m.mean(axis=1))\n",
    "print(m.sum())\n",
    "print(m.sum(axis=0))"
   ]
  },
  {
   "cell_type": "markdown",
   "id": "27e94497",
   "metadata": {},
   "source": [
    "Использование boolean массива для доступа к ndarray"
   ]
  },
  {
   "cell_type": "code",
   "execution_count": 17,
   "id": "d12b8960",
   "metadata": {},
   "outputs": [],
   "source": [
    "nums = np.array([1, 2, 3, 4, 5, 6, 7, 8, 9, 10])\n",
    "letters = np.array(['a', 'b', 'c', 'd', 'a', 'e', 'b'])"
   ]
  },
  {
   "cell_type": "code",
   "execution_count": 18,
   "id": "d82153b9",
   "metadata": {},
   "outputs": [
    {
     "name": "stdout",
     "output_type": "stream",
     "text": [
      "[ True  True  True  True False False False False False False]\n"
     ]
    }
   ],
   "source": [
    "less_then_5 = nums < 5\n",
    "print(less_then_5)"
   ]
  },
  {
   "cell_type": "code",
   "execution_count": 19,
   "id": "adf996ef",
   "metadata": {},
   "outputs": [
    {
     "name": "stdout",
     "output_type": "stream",
     "text": [
      "[ True False False False  True False False]\n"
     ]
    }
   ],
   "source": [
    "pos_a = letters == 'a'\n",
    "print(pos_a)"
   ]
  },
  {
   "cell_type": "code",
   "execution_count": 20,
   "id": "6010d890",
   "metadata": {},
   "outputs": [
    {
     "name": "stdout",
     "output_type": "stream",
     "text": [
      "[1 2 3 4]\n"
     ]
    }
   ],
   "source": [
    "print(nums[less_then_5])"
   ]
  },
  {
   "cell_type": "code",
   "execution_count": 21,
   "id": "e73d6844",
   "metadata": {},
   "outputs": [
    {
     "name": "stdout",
     "output_type": "stream",
     "text": [
      "[[1 2 3 4]\n",
      " [5 6 7 8]\n",
      " [9 1 5 7]]\n"
     ]
    }
   ],
   "source": [
    "m = np.matrix('1 2 3 4; 5 6 7 8; 9 1 5 7')\n",
    "print(m)"
   ]
  },
  {
   "cell_type": "code",
   "execution_count": 22,
   "id": "471afcd8",
   "metadata": {},
   "outputs": [
    {
     "name": "stdout",
     "output_type": "stream",
     "text": [
      "[[False False  True  True]\n",
      " [ True  True  True False]\n",
      " [False False  True  True]]\n",
      "[[3 4 5 6 7 5 7]]\n"
     ]
    }
   ],
   "source": [
    "mod_m = np.logical_and(m>=3, m<=7)\n",
    "print(mod_m)\n",
    "print(m[mod_m])"
   ]
  },
  {
   "cell_type": "code",
   "execution_count": 23,
   "id": "667efd61",
   "metadata": {},
   "outputs": [
    {
     "name": "stdout",
     "output_type": "stream",
     "text": [
      "[1 2 3 4]\n"
     ]
    }
   ],
   "source": [
    "nums = np.array([1, 2, 3, 4, 5, 6, 7, 8, 9, 10])\n",
    "print(nums[nums < 5])"
   ]
  },
  {
   "cell_type": "code",
   "execution_count": 24,
   "id": "3a3a6ebd",
   "metadata": {},
   "outputs": [
    {
     "name": "stdout",
     "output_type": "stream",
     "text": [
      "[10 10 10 10  5  6  7  8  9 10]\n"
     ]
    }
   ],
   "source": [
    "nums[nums < 5] = 10\n",
    "print(nums)"
   ]
  },
  {
   "cell_type": "code",
   "execution_count": 25,
   "id": "2a84b23b",
   "metadata": {},
   "outputs": [
    {
     "name": "stdout",
     "output_type": "stream",
     "text": [
      "[[ 1  2  3  4]\n",
      " [ 5  6  7 25]\n",
      " [25  1  5  7]]\n"
     ]
    }
   ],
   "source": [
    "m[m > 7] = 25\n",
    "print(m)"
   ]
  },
  {
   "cell_type": "markdown",
   "id": "6bc8e2ad",
   "metadata": {},
   "source": [
    "Дополнительные функции\n",
    "\n",
    "np.arange()"
   ]
  },
  {
   "cell_type": "code",
   "execution_count": 26,
   "id": "3a334bdd",
   "metadata": {},
   "outputs": [
    {
     "name": "stdout",
     "output_type": "stream",
     "text": [
      "[0 1 2 3 4 5 6 7 8 9]\n"
     ]
    }
   ],
   "source": [
    "print(np.arange(10))"
   ]
  },
  {
   "cell_type": "code",
   "execution_count": 27,
   "id": "c09c1ca4",
   "metadata": {},
   "outputs": [
    {
     "name": "stdout",
     "output_type": "stream",
     "text": [
      "[ 5  6  7  8  9 10 11]\n"
     ]
    }
   ],
   "source": [
    "print(np.arange(5, 12))"
   ]
  },
  {
   "cell_type": "code",
   "execution_count": 28,
   "id": "bfbc6a2e",
   "metadata": {},
   "outputs": [
    {
     "name": "stdout",
     "output_type": "stream",
     "text": [
      "[1.  1.5 2.  2.5 3.  3.5 4.  4.5]\n"
     ]
    }
   ],
   "source": [
    "print(np.arange(1, 5, 0.5))"
   ]
  },
  {
   "cell_type": "markdown",
   "id": "4522feaa",
   "metadata": {},
   "source": [
    "np.matrix()\n",
    "\n",
    "Вариант со списком Python."
   ]
  },
  {
   "cell_type": "code",
   "execution_count": 29,
   "id": "e3e5bcf6",
   "metadata": {},
   "outputs": [
    {
     "name": "stdout",
     "output_type": "stream",
     "text": [
      "[[1 2]\n",
      " [3 4]]\n"
     ]
    }
   ],
   "source": [
    "a = [[1, 2], [3, 4]]\n",
    "print(np.matrix(a))"
   ]
  },
  {
   "cell_type": "markdown",
   "id": "4e356459",
   "metadata": {},
   "source": [
    "Вариант с массивом Numpy."
   ]
  },
  {
   "cell_type": "code",
   "execution_count": 30,
   "id": "de0978a4",
   "metadata": {},
   "outputs": [
    {
     "name": "stdout",
     "output_type": "stream",
     "text": [
      "[[5 6]\n",
      " [7 8]]\n"
     ]
    }
   ],
   "source": [
    "b = np.array([[5, 6], [7, 8]])\n",
    "print(np.matrix(b))"
   ]
  },
  {
   "cell_type": "markdown",
   "id": "ff943d35",
   "metadata": {},
   "source": [
    "Вариант в Matlab стиле."
   ]
  },
  {
   "cell_type": "code",
   "execution_count": 31,
   "id": "9667d5e9",
   "metadata": {},
   "outputs": [
    {
     "name": "stdout",
     "output_type": "stream",
     "text": [
      "[[1 2]\n",
      " [3 4]]\n"
     ]
    }
   ],
   "source": [
    "print(np.matrix('[1, 2; 3, 4]'))"
   ]
  },
  {
   "cell_type": "markdown",
   "id": "020036a0",
   "metadata": {},
   "source": [
    "np.zeros(), np.eye()"
   ]
  },
  {
   "cell_type": "code",
   "execution_count": 32,
   "id": "77f4290e",
   "metadata": {},
   "outputs": [
    {
     "name": "stdout",
     "output_type": "stream",
     "text": [
      "[[0. 0. 0. 0.]\n",
      " [0. 0. 0. 0.]\n",
      " [0. 0. 0. 0.]]\n"
     ]
    }
   ],
   "source": [
    "print(np.zeros((3, 4)))"
   ]
  },
  {
   "cell_type": "code",
   "execution_count": 33,
   "id": "5026231f",
   "metadata": {},
   "outputs": [
    {
     "name": "stdout",
     "output_type": "stream",
     "text": [
      "[[1. 0. 0. 0. 0.]\n",
      " [0. 1. 0. 0. 0.]\n",
      " [0. 0. 1. 0. 0.]\n",
      " [0. 0. 0. 1. 0.]\n",
      " [0. 0. 0. 0. 1.]]\n"
     ]
    }
   ],
   "source": [
    "print(np.eye(5))"
   ]
  },
  {
   "cell_type": "markdown",
   "id": "aa12b910",
   "metadata": {},
   "source": [
    "np.ravel()"
   ]
  },
  {
   "cell_type": "code",
   "execution_count": 34,
   "id": "1431e6ff",
   "metadata": {},
   "outputs": [
    {
     "name": "stdout",
     "output_type": "stream",
     "text": [
      "[[1 2 3]\n",
      " [4 5 6]\n",
      " [7 8 9]]\n"
     ]
    }
   ],
   "source": [
    "A = np.array([[1, 2, 3], [4, 5, 6], [7, 8, 9]])\n",
    "print(A)"
   ]
  },
  {
   "cell_type": "code",
   "execution_count": 35,
   "id": "a9f995d9",
   "metadata": {},
   "outputs": [
    {
     "data": {
      "text/plain": [
       "array([1, 2, 3, 4, 5, 6, 7, 8, 9])"
      ]
     },
     "execution_count": 35,
     "metadata": {},
     "output_type": "execute_result"
    }
   ],
   "source": [
    "np.ravel(A)"
   ]
  },
  {
   "cell_type": "code",
   "execution_count": 36,
   "id": "36c85bed",
   "metadata": {},
   "outputs": [
    {
     "data": {
      "text/plain": [
       "array([1, 2, 3, 4, 5, 6, 7, 8, 9])"
      ]
     },
     "execution_count": 36,
     "metadata": {},
     "output_type": "execute_result"
    }
   ],
   "source": [
    ">>> np.ravel(A, order='C')"
   ]
  },
  {
   "cell_type": "code",
   "execution_count": 37,
   "id": "431448dc",
   "metadata": {},
   "outputs": [
    {
     "data": {
      "text/plain": [
       "array([1, 4, 7, 2, 5, 8, 3, 6, 9])"
      ]
     },
     "execution_count": 37,
     "metadata": {},
     "output_type": "execute_result"
    }
   ],
   "source": [
    ">>> np.ravel(A, order='F')"
   ]
  },
  {
   "cell_type": "markdown",
   "id": "fb30d0a8",
   "metadata": {},
   "source": [
    "np.where()"
   ]
  },
  {
   "cell_type": "code",
   "execution_count": 38,
   "id": "50981508",
   "metadata": {},
   "outputs": [
    {
     "data": {
      "text/plain": [
       "array([ 0. ,  0.1, 20. ,  0.3, 40. ,  0.5, 60. ,  0.7, 80. ,  0.9])"
      ]
     },
     "execution_count": 38,
     "metadata": {},
     "output_type": "execute_result"
    }
   ],
   "source": [
    ">>> a = np.array([0, 1, 2, 3, 4, 5, 6, 7, 8, 9])\n",
    ">>> np.where(a % 2 == 0, a * 10, a / 10)"
   ]
  },
  {
   "cell_type": "code",
   "execution_count": 39,
   "id": "9a9d066e",
   "metadata": {},
   "outputs": [
    {
     "name": "stdout",
     "output_type": "stream",
     "text": [
      "[0.07275365 0.56570807 0.90090954 0.90675735 0.14903458 0.80734187\n",
      " 0.22755264 0.82028806 0.68569889 0.21028175]\n",
      "[False  True  True  True False  True False  True  True False]\n"
     ]
    },
    {
     "data": {
      "text/plain": [
       "array([-1,  1,  1,  1, -1,  1, -1,  1,  1, -1])"
      ]
     },
     "execution_count": 39,
     "metadata": {},
     "output_type": "execute_result"
    }
   ],
   "source": [
    "a = np.random.rand(10)\n",
    "print(a)\n",
    "print(np.where(a > 0.5, True, False))\n",
    "np.where(a > 0.5, 1, -1)"
   ]
  },
  {
   "cell_type": "markdown",
   "id": "f84335ed",
   "metadata": {},
   "source": [
    "np.meshgrid() "
   ]
  },
  {
   "cell_type": "code",
   "execution_count": 40,
   "id": "31910f14",
   "metadata": {},
   "outputs": [
    {
     "name": "stdout",
     "output_type": "stream",
     "text": [
      "[0.   0.25 0.5  0.75 1.  ]\n"
     ]
    },
    {
     "data": {
      "text/plain": [
       "array([0. , 0.5, 1. , 1.5, 2. ])"
      ]
     },
     "execution_count": 40,
     "metadata": {},
     "output_type": "execute_result"
    }
   ],
   "source": [
    ">>> x = np.linspace(0, 1, 5)\n",
    "print(x)\n",
    ">>> y = np.linspace(0, 2, 5)\n",
    ">>> y"
   ]
  },
  {
   "cell_type": "code",
   "execution_count": 41,
   "id": "98ace8f9",
   "metadata": {},
   "outputs": [
    {
     "name": "stdout",
     "output_type": "stream",
     "text": [
      "[[0.   0.25 0.5  0.75 1.  ]\n",
      " [0.   0.25 0.5  0.75 1.  ]\n",
      " [0.   0.25 0.5  0.75 1.  ]\n",
      " [0.   0.25 0.5  0.75 1.  ]\n",
      " [0.   0.25 0.5  0.75 1.  ]]\n"
     ]
    },
    {
     "data": {
      "text/plain": [
       "array([[0. , 0. , 0. , 0. , 0. ],\n",
       "       [0.5, 0.5, 0.5, 0.5, 0.5],\n",
       "       [1. , 1. , 1. , 1. , 1. ],\n",
       "       [1.5, 1.5, 1.5, 1.5, 1.5],\n",
       "       [2. , 2. , 2. , 2. , 2. ]])"
      ]
     },
     "execution_count": 41,
     "metadata": {},
     "output_type": "execute_result"
    }
   ],
   "source": [
    ">>> xg, yg = np.meshgrid(x, y)\n",
    "print(xg)\n",
    ">>> yg"
   ]
  },
  {
   "cell_type": "code",
   "execution_count": 42,
   "id": "5a2d8ad4",
   "metadata": {},
   "outputs": [],
   "source": [
    "import matplotlib.pyplot as plt\n",
    "%matplotlib inline"
   ]
  },
  {
   "cell_type": "code",
   "execution_count": 43,
   "id": "3bc7d283",
   "metadata": {},
   "outputs": [
    {
     "data": {
      "text/plain": [
       "[<matplotlib.lines.Line2D at 0x215261c8ac0>,\n",
       " <matplotlib.lines.Line2D at 0x215261c8b20>,\n",
       " <matplotlib.lines.Line2D at 0x215261c8c10>,\n",
       " <matplotlib.lines.Line2D at 0x215261c8d30>,\n",
       " <matplotlib.lines.Line2D at 0x215261c8e50>]"
      ]
     },
     "execution_count": 43,
     "metadata": {},
     "output_type": "execute_result"
    },
    {
     "data": {
      "image/png": "[encoded data removed]",
      "text/plain": [
       "<Figure size 432x288 with 1 Axes>"
      ]
     },
     "metadata": {
      "needs_background": "light"
     },
     "output_type": "display_data"
    }
   ],
   "source": [
    "plt.plot(xg, yg, color=\"r\", marker=\"*\", linestyle=\"none\")"
   ]
  },
  {
   "cell_type": "markdown",
   "id": "c67a56c8",
   "metadata": {},
   "source": [
    "np.random.permutation()"
   ]
  },
  {
   "cell_type": "code",
   "execution_count": 44,
   "id": "90297a50",
   "metadata": {},
   "outputs": [
    {
     "name": "stdout",
     "output_type": "stream",
     "text": [
      "[3 2 5 4 1 0 6]\n"
     ]
    },
    {
     "data": {
      "text/plain": [
       "array(['b', 'c', 'e', 'a', 'd'], dtype='<U1')"
      ]
     },
     "execution_count": 44,
     "metadata": {},
     "output_type": "execute_result"
    }
   ],
   "source": [
    "print(np.random.permutation(7))\n",
    ">>> a = ['a', 'b', 'c', 'd', 'e']\n",
    ">>> np.random.permutation(a)"
   ]
  },
  {
   "cell_type": "code",
   "execution_count": 45,
   "id": "cfb3211d",
   "metadata": {},
   "outputs": [
    {
     "data": {
      "text/plain": [
       "array([ 0. ,  2.5,  5. ,  7.5, 10. ])"
      ]
     },
     "execution_count": 45,
     "metadata": {},
     "output_type": "execute_result"
    }
   ],
   "source": [
    ">>> arr = np.linspace(0, 10, 5)\n",
    ">>> arr"
   ]
  },
  {
   "cell_type": "code",
   "execution_count": 46,
   "id": "73d5248d",
   "metadata": {},
   "outputs": [
    {
     "data": {
      "text/plain": [
       "array([ 2.5,  7.5,  0. , 10. ,  5. ])"
      ]
     },
     "execution_count": 46,
     "metadata": {},
     "output_type": "execute_result"
    }
   ],
   "source": [
    ">>> arr_mix = np.random.permutation(arr)\n",
    ">>> arr_mix"
   ]
  },
  {
   "cell_type": "code",
   "execution_count": 47,
   "id": "7af4f71a",
   "metadata": {},
   "outputs": [
    {
     "name": "stdout",
     "output_type": "stream",
     "text": [
      "[0 1 2 4 3]\n"
     ]
    },
    {
     "data": {
      "text/plain": [
       "array([ 0. ,  2.5,  5. , 10. ,  7.5])"
      ]
     },
     "execution_count": 47,
     "metadata": {},
     "output_type": "execute_result"
    }
   ],
   "source": [
    "index_mix = np.random.permutation(len(arr_mix))\n",
    "print(index_mix)\n",
    "arr[index_mix]"
   ]
  }
 ],
 "metadata": {
  "kernelspec": {
   "display_name": "Python 3 (ipykernel)",
   "language": "python",
   "name": "python3"
  },
  "language_info": {
   "codemirror_mode": {
    "name": "ipython",
    "version": 3
   },
   "file_extension": ".py",
   "mimetype": "text/x-python",
   "name": "python",
   "nbconvert_exporter": "python",
   "pygments_lexer": "ipython3",
   "version": "3.9.7"
  }
 },
 "nbformat": 4,
 "nbformat_minor": 5
}
