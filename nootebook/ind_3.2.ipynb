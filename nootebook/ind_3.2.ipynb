{
 "cells": [
  {
   "cell_type": "markdown",
   "id": "4d4a961f",
   "metadata": {},
   "source": [
    "# Индивидуальное задание"
   ]
  },
  {
   "cell_type": "markdown",
   "id": "ebfdee46",
   "metadata": {},
   "source": [
    "Дана целочисленная квадратная матрица. Определить: сумму элементов в тех столбцах, которые не содержат отрицательных элементов; минимум среди модулей элементов диагоналей, параллельных побочной диагонали матрицы."
   ]
  },
  {
   "cell_type": "code",
   "execution_count": 2,
   "id": "5b609f00",
   "metadata": {},
   "outputs": [],
   "source": [
    "import numpy as np"
   ]
  },
  {
   "cell_type": "code",
   "execution_count": 8,
   "id": "21ca3f5c",
   "metadata": {},
   "outputs": [
    {
     "name": "stdout",
     "output_type": "stream",
     "text": [
      "Enter the size of the matrix: 3\n"
     ]
    }
   ],
   "source": [
    "n = int(input(\"Enter the size of the matrix: \"))"
   ]
  },
  {
   "cell_type": "code",
   "execution_count": 9,
   "id": "061deee8",
   "metadata": {},
   "outputs": [
    {
     "name": "stdout",
     "output_type": "stream",
     "text": [
      "[[ -4  95  52]\n",
      " [ 96  31  54]\n",
      " [-11  64  87]]\n"
     ]
    }
   ],
   "source": [
    "matrix = np.random.randint(-20, 100, (n, n))\n",
    "print(matrix)"
   ]
  },
  {
   "cell_type": "markdown",
   "id": "d66a8e67",
   "metadata": {},
   "source": [
    "1. Сумма элементов в тех столбцах, которые не содержат отрицательных элементов"
   ]
  },
  {
   "cell_type": "code",
   "execution_count": 10,
   "id": "edc9509b",
   "metadata": {},
   "outputs": [
    {
     "name": "stdout",
     "output_type": "stream",
     "text": [
      "[False  True  True]\n"
     ]
    }
   ],
   "source": [
    "print(matrix.min(axis=0) > 0)"
   ]
  },
  {
   "cell_type": "code",
   "execution_count": 11,
   "id": "533d7df8",
   "metadata": {},
   "outputs": [
    {
     "name": "stdout",
     "output_type": "stream",
     "text": [
      "[[95 52]\n",
      " [31 54]\n",
      " [64 87]]\n"
     ]
    }
   ],
   "source": [
    "print(matrix[:, matrix.min(axis=0) > 0])"
   ]
  },
  {
   "cell_type": "code",
   "execution_count": 12,
   "id": "6cf3c670",
   "metadata": {},
   "outputs": [
    {
     "name": "stdout",
     "output_type": "stream",
     "text": [
      "383\n"
     ]
    }
   ],
   "source": [
    "summa = np.sum(matrix[:, matrix.min(axis=0) > 0])\n",
    "print(summa)"
   ]
  },
  {
   "cell_type": "markdown",
   "id": "8b932402",
   "metadata": {},
   "source": [
    "2. Минимум среди сумм модулей элементов диагоналей, параллельных побочной диагонали матрицы"
   ]
  },
  {
   "cell_type": "code",
   "execution_count": 13,
   "id": "2041d265",
   "metadata": {},
   "outputs": [],
   "source": [
    "import numpy as np "
   ]
  },
  {
   "cell_type": "code",
   "execution_count": 14,
   "id": "302d866d",
   "metadata": {},
   "outputs": [
    {
     "name": "stdout",
     "output_type": "stream",
     "text": [
      "Enter the size of the matrix: 6\n"
     ]
    }
   ],
   "source": [
    "n = int(input(\"Enter the size of the matrix: \"))"
   ]
  },
  {
   "cell_type": "code",
   "execution_count": 15,
   "id": "d51b3fda",
   "metadata": {},
   "outputs": [
    {
     "name": "stdout",
     "output_type": "stream",
     "text": [
      "[[110 206 179 293 249 125]\n",
      " [235 182 227 114 142  14]\n",
      " [ 76 190  52 298 294 215]\n",
      " [258  28  75 224 226 172]\n",
      " [134 107 257  81 275 233]\n",
      " [ 88 199 236 122 239 188]]\n"
     ]
    }
   ],
   "source": [
    "matrix = np.random.randint(-20, 300, (n, n))\n",
    "matrix = np.absolute(matrix)\n",
    "print(matrix)"
   ]
  },
  {
   "cell_type": "code",
   "execution_count": 16,
   "id": "01806401",
   "metadata": {},
   "outputs": [
    {
     "name": "stdout",
     "output_type": "stream",
     "text": [
      "110\n"
     ]
    }
   ],
   "source": [
    "min_sum = min([np.fliplr(matrix).trace(offset=i) for i in range(-(n-1), n)])\n",
    "print(min_sum)"
   ]
  }
 ],
 "metadata": {
  "kernelspec": {
   "display_name": "Python 3 (ipykernel)",
   "language": "python",
   "name": "python3"
  },
  "language_info": {
   "codemirror_mode": {
    "name": "ipython",
    "version": 3
   },
   "file_extension": ".py",
   "mimetype": "text/x-python",
   "name": "python",
   "nbconvert_exporter": "python",
   "pygments_lexer": "ipython3",
   "version": "3.9.7"
  }
 },
 "nbformat": 4,
 "nbformat_minor": 5
}
